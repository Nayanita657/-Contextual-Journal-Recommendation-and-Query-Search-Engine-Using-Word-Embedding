{
  "nbformat": 4,
  "nbformat_minor": 0,
  "metadata": {
    "kernelspec": {
      "display_name": "Python 3",
      "language": "python",
      "name": "python3"
    },
    "language_info": {
      "codemirror_mode": {
        "name": "ipython",
        "version": 3
      },
      "file_extension": ".py",
      "mimetype": "text/x-python",
      "name": "python",
      "nbconvert_exporter": "python",
      "pygments_lexer": "ipython3",
      "version": "3.8.10"
    },
    "colab": {
      "name": "Journal Recommendation based on context.ipynb",
      "provenance": []
    }
  },
  "cells": [
    {
      "cell_type": "code",
      "metadata": {
        "colab": {
          "base_uri": "https://localhost:8080/"
        },
        "id": "vaxAZiKbht8T",
        "outputId": "1878504c-01cb-4ee5-ca39-5c2e2461b560"
      },
      "source": [
        "from google.colab import drive\n",
        "drive.mount('/content/drive')"
      ],
      "execution_count": null,
      "outputs": [
        {
          "output_type": "stream",
          "name": "stdout",
          "text": [
            "Drive already mounted at /content/drive; to attempt to forcibly remount, call drive.mount(\"/content/drive\", force_remount=True).\n"
          ]
        }
      ]
    },
    {
      "cell_type": "code",
      "metadata": {
        "colab": {
          "base_uri": "https://localhost:8080/"
        },
        "id": "UfZgP40Nmy4F",
        "outputId": "5fb46001-c7d9-4485-aec3-b5a6109d7b39"
      },
      "source": [
        "!pip install mittens\n",
        "!pip install gingerit\n",
        "!pip install tika\n",
        "!pip install sentence-transformers"
      ],
      "execution_count": null,
      "outputs": [
        {
          "output_type": "stream",
          "name": "stdout",
          "text": [
            "Requirement already satisfied: mittens in /usr/local/lib/python3.7/dist-packages (0.2)\n",
            "Requirement already satisfied: numpy in /usr/local/lib/python3.7/dist-packages (from mittens) (1.19.5)\n",
            "Requirement already satisfied: gingerit in /usr/local/lib/python3.7/dist-packages (0.8.2)\n",
            "Requirement already satisfied: requests<3.0.0,>=2.25.1 in /usr/local/lib/python3.7/dist-packages (from gingerit) (2.26.0)\n",
            "Requirement already satisfied: urllib3<1.27,>=1.21.1 in /usr/local/lib/python3.7/dist-packages (from requests<3.0.0,>=2.25.1->gingerit) (1.24.3)\n",
            "Requirement already satisfied: charset-normalizer~=2.0.0 in /usr/local/lib/python3.7/dist-packages (from requests<3.0.0,>=2.25.1->gingerit) (2.0.8)\n",
            "Requirement already satisfied: certifi>=2017.4.17 in /usr/local/lib/python3.7/dist-packages (from requests<3.0.0,>=2.25.1->gingerit) (2021.10.8)\n",
            "Requirement already satisfied: idna<4,>=2.5 in /usr/local/lib/python3.7/dist-packages (from requests<3.0.0,>=2.25.1->gingerit) (2.10)\n",
            "Requirement already satisfied: tika in /usr/local/lib/python3.7/dist-packages (1.24)\n",
            "Requirement already satisfied: setuptools in /usr/local/lib/python3.7/dist-packages (from tika) (57.4.0)\n",
            "Requirement already satisfied: requests in /usr/local/lib/python3.7/dist-packages (from tika) (2.26.0)\n",
            "Requirement already satisfied: certifi>=2017.4.17 in /usr/local/lib/python3.7/dist-packages (from requests->tika) (2021.10.8)\n",
            "Requirement already satisfied: urllib3<1.27,>=1.21.1 in /usr/local/lib/python3.7/dist-packages (from requests->tika) (1.24.3)\n",
            "Requirement already satisfied: idna<4,>=2.5 in /usr/local/lib/python3.7/dist-packages (from requests->tika) (2.10)\n",
            "Requirement already satisfied: charset-normalizer~=2.0.0 in /usr/local/lib/python3.7/dist-packages (from requests->tika) (2.0.8)\n",
            "Requirement already satisfied: sentence-transformers in /usr/local/lib/python3.7/dist-packages (2.1.0)\n",
            "Requirement already satisfied: transformers<5.0.0,>=4.6.0 in /usr/local/lib/python3.7/dist-packages (from sentence-transformers) (4.12.5)\n",
            "Requirement already satisfied: nltk in /usr/local/lib/python3.7/dist-packages (from sentence-transformers) (3.2.5)\n",
            "Requirement already satisfied: scipy in /usr/local/lib/python3.7/dist-packages (from sentence-transformers) (1.4.1)\n",
            "Requirement already satisfied: tokenizers>=0.10.3 in /usr/local/lib/python3.7/dist-packages (from sentence-transformers) (0.10.3)\n",
            "Requirement already satisfied: scikit-learn in /usr/local/lib/python3.7/dist-packages (from sentence-transformers) (1.0.1)\n",
            "Requirement already satisfied: sentencepiece in /usr/local/lib/python3.7/dist-packages (from sentence-transformers) (0.1.96)\n",
            "Requirement already satisfied: torchvision in /usr/local/lib/python3.7/dist-packages (from sentence-transformers) (0.11.1+cu111)\n",
            "Requirement already satisfied: torch>=1.6.0 in /usr/local/lib/python3.7/dist-packages (from sentence-transformers) (1.10.0+cu111)\n",
            "Requirement already satisfied: huggingface-hub in /usr/local/lib/python3.7/dist-packages (from sentence-transformers) (0.1.2)\n",
            "Requirement already satisfied: numpy in /usr/local/lib/python3.7/dist-packages (from sentence-transformers) (1.19.5)\n",
            "Requirement already satisfied: tqdm in /usr/local/lib/python3.7/dist-packages (from sentence-transformers) (4.62.3)\n",
            "Requirement already satisfied: typing-extensions in /usr/local/lib/python3.7/dist-packages (from torch>=1.6.0->sentence-transformers) (3.10.0.2)\n",
            "Requirement already satisfied: requests in /usr/local/lib/python3.7/dist-packages (from transformers<5.0.0,>=4.6.0->sentence-transformers) (2.26.0)\n",
            "Requirement already satisfied: importlib-metadata in /usr/local/lib/python3.7/dist-packages (from transformers<5.0.0,>=4.6.0->sentence-transformers) (4.8.2)\n",
            "Requirement already satisfied: packaging>=20.0 in /usr/local/lib/python3.7/dist-packages (from transformers<5.0.0,>=4.6.0->sentence-transformers) (21.3)\n",
            "Requirement already satisfied: filelock in /usr/local/lib/python3.7/dist-packages (from transformers<5.0.0,>=4.6.0->sentence-transformers) (3.4.0)\n",
            "Requirement already satisfied: sacremoses in /usr/local/lib/python3.7/dist-packages (from transformers<5.0.0,>=4.6.0->sentence-transformers) (0.0.46)\n",
            "Requirement already satisfied: regex!=2019.12.17 in /usr/local/lib/python3.7/dist-packages (from transformers<5.0.0,>=4.6.0->sentence-transformers) (2019.12.20)\n",
            "Requirement already satisfied: pyyaml>=5.1 in /usr/local/lib/python3.7/dist-packages (from transformers<5.0.0,>=4.6.0->sentence-transformers) (6.0)\n",
            "Requirement already satisfied: pyparsing!=3.0.5,>=2.0.2 in /usr/local/lib/python3.7/dist-packages (from packaging>=20.0->transformers<5.0.0,>=4.6.0->sentence-transformers) (3.0.6)\n",
            "Requirement already satisfied: zipp>=0.5 in /usr/local/lib/python3.7/dist-packages (from importlib-metadata->transformers<5.0.0,>=4.6.0->sentence-transformers) (3.6.0)\n",
            "Requirement already satisfied: six in /usr/local/lib/python3.7/dist-packages (from nltk->sentence-transformers) (1.15.0)\n",
            "Requirement already satisfied: certifi>=2017.4.17 in /usr/local/lib/python3.7/dist-packages (from requests->transformers<5.0.0,>=4.6.0->sentence-transformers) (2021.10.8)\n",
            "Requirement already satisfied: charset-normalizer~=2.0.0 in /usr/local/lib/python3.7/dist-packages (from requests->transformers<5.0.0,>=4.6.0->sentence-transformers) (2.0.8)\n",
            "Requirement already satisfied: idna<4,>=2.5 in /usr/local/lib/python3.7/dist-packages (from requests->transformers<5.0.0,>=4.6.0->sentence-transformers) (2.10)\n",
            "Requirement already satisfied: urllib3<1.27,>=1.21.1 in /usr/local/lib/python3.7/dist-packages (from requests->transformers<5.0.0,>=4.6.0->sentence-transformers) (1.24.3)\n",
            "Requirement already satisfied: click in /usr/local/lib/python3.7/dist-packages (from sacremoses->transformers<5.0.0,>=4.6.0->sentence-transformers) (7.1.2)\n",
            "Requirement already satisfied: joblib in /usr/local/lib/python3.7/dist-packages (from sacremoses->transformers<5.0.0,>=4.6.0->sentence-transformers) (1.1.0)\n",
            "Requirement already satisfied: threadpoolctl>=2.0.0 in /usr/local/lib/python3.7/dist-packages (from scikit-learn->sentence-transformers) (3.0.0)\n",
            "Requirement already satisfied: pillow!=8.3.0,>=5.3.0 in /usr/local/lib/python3.7/dist-packages (from torchvision->sentence-transformers) (7.1.2)\n"
          ]
        }
      ]
    },
    {
      "cell_type": "code",
      "metadata": {
        "id": "WQYQ-asJW2Kn"
      },
      "source": [
        "import joblib\n",
        "from sklearn.decomposition import PCA\n",
        "import seaborn as sns\n",
        "import pandas as pd\n",
        "import matplotlib.pyplot as plt\n",
        "\n",
        "import sys\n",
        "sys.path.append('/content/drive/MyDrive/Classroom/2021 Machine Learning 1 (CSL7550)/Project/Implementation')\n",
        "\n",
        "from data_genration import data_prepare"
      ],
      "execution_count": null,
      "outputs": []
    },
    {
      "cell_type": "code",
      "metadata": {
        "colab": {
          "base_uri": "https://localhost:8080/"
        },
        "id": "iaUyPq9JW2Ks",
        "outputId": "0984fc77-d090-4043-ec74-e2fb7845cca2"
      },
      "source": [
        "path = '/content/drive/MyDrive/Classroom/2021 Machine Learning 1 (CSL7550)/Project/Implementation/journals/kundu-2015-a.pdf'\n",
        "\n",
        "cls = data_prepare()\n",
        "proposed_paper = cls.extract_text(path)\n",
        "\n",
        "test = proposed_paper['text'][0]"
      ],
      "execution_count": null,
      "outputs": [
        {
          "output_type": "stream",
          "name": "stdout",
          "text": [
            "import successfully\n",
            "/content/drive/MyDrive/Classroom/2021 Machine Learning 1 (CSL7550)/Project/Implementation/journals/kundu-2015-a.pdf\n"
          ]
        }
      ]
    },
    {
      "cell_type": "code",
      "metadata": {
        "id": "UCcPV1krW2Ku"
      },
      "source": [
        "# Load the model from the file\n",
        "glove_model_saved = joblib.load('/content/drive/MyDrive/Classroom/2021 Machine Learning 1 (CSL7550)/Project/Implementation/glove_trained_J.pkl')\n",
        "\n",
        "df_glove = glove_model_saved.fit_transform(test)"
      ],
      "execution_count": null,
      "outputs": []
    },
    {
      "cell_type": "code",
      "metadata": {
        "id": "AVbVpYNAtKqQ"
      },
      "source": [
        ""
      ],
      "execution_count": null,
      "outputs": []
    },
    {
      "cell_type": "code",
      "metadata": {
        "colab": {
          "base_uri": "https://localhost:8080/",
          "height": 645
        },
        "id": "IB_igBzYW2Kv",
        "outputId": "24dfea82-09cc-429a-fbda-ecb56c70cc76"
      },
      "source": [
        "  df_glove"
      ],
      "execution_count": null,
      "outputs": [
        {
          "output_type": "execute_result",
          "data": {
            "text/html": [
              "<div>\n",
              "<style scoped>\n",
              "    .dataframe tbody tr th:only-of-type {\n",
              "        vertical-align: middle;\n",
              "    }\n",
              "\n",
              "    .dataframe tbody tr th {\n",
              "        vertical-align: top;\n",
              "    }\n",
              "\n",
              "    .dataframe thead th {\n",
              "        text-align: right;\n",
              "    }\n",
              "</style>\n",
              "<table border=\"1\" class=\"dataframe\">\n",
              "  <thead>\n",
              "    <tr style=\"text-align: right;\">\n",
              "      <th></th>\n",
              "      <th>text</th>\n",
              "      <th>paper_title</th>\n",
              "      <th>Journal</th>\n",
              "      <th>cosine_score</th>\n",
              "    </tr>\n",
              "  </thead>\n",
              "  <tbody>\n",
              "    <tr>\n",
              "      <th>0</th>\n",
              "      <td>structural equivalence coresidents measurement...</td>\n",
              "      <td>On-the-structural-equivalence-of-coresidents-a...</td>\n",
              "      <td>Social Networks An International Journal of St...</td>\n",
              "      <td>0.958956</td>\n",
              "    </tr>\n",
              "    <tr>\n",
              "      <th>1</th>\n",
              "      <td>artificial neural network applied predicting e...</td>\n",
              "      <td>Artificial neural networks applied for predict...</td>\n",
              "      <td>Social Network Analysis and Mining</td>\n",
              "      <td>0.955749</td>\n",
              "    </tr>\n",
              "    <tr>\n",
              "      <th>2</th>\n",
              "      <td>influence social status network structure cons...</td>\n",
              "      <td>The influence of social status and network str...</td>\n",
              "      <td>Social Network Analysis and Mining</td>\n",
              "      <td>0.953821</td>\n",
              "    </tr>\n",
              "    <tr>\n",
              "      <th>3</th>\n",
              "      <td>impact survey design estimation exponential fa...</td>\n",
              "      <td>Impact-of-survey-design-on-estimation-of-expon...</td>\n",
              "      <td>Social Networks An International Journal of St...</td>\n",
              "      <td>0.945397</td>\n",
              "    </tr>\n",
              "    <tr>\n",
              "      <th>4</th>\n",
              "      <td>feature extraction selection emotion recogniti...</td>\n",
              "      <td>Feature_Extraction_and_Selection_for_Emotion_R...</td>\n",
              "      <td>IEEE Transactions on Affective Computing</td>\n",
              "      <td>0.937645</td>\n",
              "    </tr>\n",
              "    <tr>\n",
              "      <th>5</th>\n",
              "      <td>improving attention model based cognition grou...</td>\n",
              "      <td>Improving_Attention_Model_Based_on_Cognition_G...</td>\n",
              "      <td>IEEE Transactions on Affective Computing</td>\n",
              "      <td>0.934893</td>\n",
              "    </tr>\n",
              "    <tr>\n",
              "      <th>6</th>\n",
              "      <td>jointly aligning predicting continuous emotion...</td>\n",
              "      <td>Jointly_Aligning_and_Predicting_Continuous_Emo...</td>\n",
              "      <td>IEEE Transactions on Affective Computing</td>\n",
              "      <td>0.931484</td>\n",
              "    </tr>\n",
              "    <tr>\n",
              "      <th>7</th>\n",
              "      <td>capturing emotion distribution multimedia emot...</td>\n",
              "      <td>Capturing_Emotion_Distribution_for_Multimedia_...</td>\n",
              "      <td>IEEE Transactions on Affective Computing</td>\n",
              "      <td>0.928981</td>\n",
              "    </tr>\n",
              "    <tr>\n",
              "      <th>8</th>\n",
              "      <td>lost translation collecting coding data social...</td>\n",
              "      <td>Lost-in-translation--Collecting-and-coding-dat...</td>\n",
              "      <td>Social Networks An International Journal of St...</td>\n",
              "      <td>0.927545</td>\n",
              "    </tr>\n",
              "    <tr>\n",
              "      <th>9</th>\n",
              "      <td>rumour prevention social network layer blockch...</td>\n",
              "      <td>Rumour prevention in social networks with laye...</td>\n",
              "      <td>Social Network Analysis and Mining</td>\n",
              "      <td>0.922447</td>\n",
              "    </tr>\n",
              "    <tr>\n",
              "      <th>10</th>\n",
              "      <td>effect computerized emotional training child h...</td>\n",
              "      <td>Effects_of_Computerized_Emotional_Training_on_...</td>\n",
              "      <td>IEEE Transactions on Affective Computing</td>\n",
              "      <td>0.914152</td>\n",
              "    </tr>\n",
              "    <tr>\n",
              "      <th>11</th>\n",
              "      <td>individualism collectivism relate bullying vic...</td>\n",
              "      <td>How Does Individualism-Collectivism Relate to ...</td>\n",
              "      <td>International Journal of Bullying Prevention</td>\n",
              "      <td>0.904077</td>\n",
              "    </tr>\n",
              "    <tr>\n",
              "      <th>12</th>\n",
              "      <td>extending persian sentiment lexicon idiomatic ...</td>\n",
              "      <td>Extending persian sentiment lexicon with idiom...</td>\n",
              "      <td>Social Network Analysis and Mining</td>\n",
              "      <td>0.894310</td>\n",
              "    </tr>\n",
              "    <tr>\n",
              "      <th>13</th>\n",
              "      <td>empowering peer group prevent school bullying ...</td>\n",
              "      <td>Empowering the Peer Group to Prevent School Bu...</td>\n",
              "      <td>International Journal of Bullying Prevention</td>\n",
              "      <td>0.891305</td>\n",
              "    </tr>\n",
              "    <tr>\n",
              "      <th>14</th>\n",
              "      <td>actor issue climate change policy maturation p...</td>\n",
              "      <td>Actors and issues in climate change policy: Th...</td>\n",
              "      <td>Social Networks An International Journal of St...</td>\n",
              "      <td>0.885688</td>\n",
              "    </tr>\n",
              "    <tr>\n",
              "      <th>15</th>\n",
              "      <td>systematic application network diagnostics mon...</td>\n",
              "      <td>The Systematic Application of Network Diagnost...</td>\n",
              "      <td>International Journal of Bullying Prevention</td>\n",
              "      <td>0.880189</td>\n",
              "    </tr>\n",
              "    <tr>\n",
              "      <th>16</th>\n",
              "      <td>affective atmosphere sexualized hate among you...</td>\n",
              "      <td>Affective Atmospheres of Sexualized Hate Among...</td>\n",
              "      <td>International Journal of Bullying Prevention</td>\n",
              "      <td>0.864450</td>\n",
              "    </tr>\n",
              "    <tr>\n",
              "      <th>17</th>\n",
              "      <td>reconstruction arab woman role medium critical...</td>\n",
              "      <td>The reconstruction of Arab women role in media...</td>\n",
              "      <td>Social Network Analysis and Mining</td>\n",
              "      <td>0.860468</td>\n",
              "    </tr>\n",
              "    <tr>\n",
              "      <th>18</th>\n",
              "      <td>right based approach youth sexting challenging...</td>\n",
              "      <td>A Rights-Based Approach to Youth Sexting: Chal...</td>\n",
              "      <td>International Journal of Bullying Prevention</td>\n",
              "      <td>0.834576</td>\n",
              "    </tr>\n",
              "  </tbody>\n",
              "</table>\n",
              "</div>"
            ],
            "text/plain": [
              "                                                 text  ... cosine_score\n",
              "0   structural equivalence coresidents measurement...  ...     0.958956\n",
              "1   artificial neural network applied predicting e...  ...     0.955749\n",
              "2   influence social status network structure cons...  ...     0.953821\n",
              "3   impact survey design estimation exponential fa...  ...     0.945397\n",
              "4   feature extraction selection emotion recogniti...  ...     0.937645\n",
              "5   improving attention model based cognition grou...  ...     0.934893\n",
              "6   jointly aligning predicting continuous emotion...  ...     0.931484\n",
              "7   capturing emotion distribution multimedia emot...  ...     0.928981\n",
              "8   lost translation collecting coding data social...  ...     0.927545\n",
              "9   rumour prevention social network layer blockch...  ...     0.922447\n",
              "10  effect computerized emotional training child h...  ...     0.914152\n",
              "11  individualism collectivism relate bullying vic...  ...     0.904077\n",
              "12  extending persian sentiment lexicon idiomatic ...  ...     0.894310\n",
              "13  empowering peer group prevent school bullying ...  ...     0.891305\n",
              "14  actor issue climate change policy maturation p...  ...     0.885688\n",
              "15  systematic application network diagnostics mon...  ...     0.880189\n",
              "16  affective atmosphere sexualized hate among you...  ...     0.864450\n",
              "17  reconstruction arab woman role medium critical...  ...     0.860468\n",
              "18  right based approach youth sexting challenging...  ...     0.834576\n",
              "\n",
              "[19 rows x 4 columns]"
            ]
          },
          "metadata": {},
          "execution_count": 23
        }
      ]
    },
    {
      "cell_type": "code",
      "metadata": {
        "id": "Iu9V2qU6W2Kv"
      },
      "source": [
        "# Load the model from the file\n",
        "bert_model_saved = joblib.load('/content/drive/MyDrive/Classroom/2021 Machine Learning 1 (CSL7550)/Project/Implementation/bert_trained_J.pkl')\n",
        "\n",
        "df_bert = bert_model_saved.fit_transform(test)"
      ],
      "execution_count": null,
      "outputs": []
    },
    {
      "cell_type": "code",
      "metadata": {
        "colab": {
          "base_uri": "https://localhost:8080/"
        },
        "id": "5tsdzj_UW2Kw",
        "outputId": "d406ccb8-3cdc-4b66-bd43-c544a8e414ea"
      },
      "source": [
        "df_bert"
      ],
      "execution_count": null,
      "outputs": [
        {
          "output_type": "execute_result",
          "data": {
            "text/html": [
              "<div>\n",
              "<style scoped>\n",
              "    .dataframe tbody tr th:only-of-type {\n",
              "        vertical-align: middle;\n",
              "    }\n",
              "\n",
              "    .dataframe tbody tr th {\n",
              "        vertical-align: top;\n",
              "    }\n",
              "\n",
              "    .dataframe thead th {\n",
              "        text-align: right;\n",
              "    }\n",
              "</style>\n",
              "<table border=\"1\" class=\"dataframe\">\n",
              "  <thead>\n",
              "    <tr style=\"text-align: right;\">\n",
              "      <th></th>\n",
              "      <th>text</th>\n",
              "      <th>paper_title</th>\n",
              "      <th>Journal</th>\n",
              "      <th>cosine_score</th>\n",
              "    </tr>\n",
              "  </thead>\n",
              "  <tbody>\n",
              "    <tr>\n",
              "      <th>0</th>\n",
              "      <td>impact survey design estimation exponential fa...</td>\n",
              "      <td>Impact-of-survey-design-on-estimation-of-expon...</td>\n",
              "      <td>Social Networks An International Journal of St...</td>\n",
              "      <td>0.819653</td>\n",
              "    </tr>\n",
              "    <tr>\n",
              "      <th>1</th>\n",
              "      <td>artificial neural network applied predicting e...</td>\n",
              "      <td>Artificial neural networks applied for predict...</td>\n",
              "      <td>Social Network Analysis and Mining</td>\n",
              "      <td>0.806017</td>\n",
              "    </tr>\n",
              "    <tr>\n",
              "      <th>2</th>\n",
              "      <td>influence social status network structure cons...</td>\n",
              "      <td>The influence of social status and network str...</td>\n",
              "      <td>Social Network Analysis and Mining</td>\n",
              "      <td>0.780898</td>\n",
              "    </tr>\n",
              "    <tr>\n",
              "      <th>3</th>\n",
              "      <td>rumour prevention social network layer blockch...</td>\n",
              "      <td>Rumour prevention in social networks with laye...</td>\n",
              "      <td>Social Network Analysis and Mining</td>\n",
              "      <td>0.778530</td>\n",
              "    </tr>\n",
              "    <tr>\n",
              "      <th>4</th>\n",
              "      <td>structural equivalence coresidents measurement...</td>\n",
              "      <td>On-the-structural-equivalence-of-coresidents-a...</td>\n",
              "      <td>Social Networks An International Journal of St...</td>\n",
              "      <td>0.775032</td>\n",
              "    </tr>\n",
              "    <tr>\n",
              "      <th>5</th>\n",
              "      <td>feature extraction selection emotion recogniti...</td>\n",
              "      <td>Feature_Extraction_and_Selection_for_Emotion_R...</td>\n",
              "      <td>IEEE Transactions on Affective Computing</td>\n",
              "      <td>0.765179</td>\n",
              "    </tr>\n",
              "    <tr>\n",
              "      <th>6</th>\n",
              "      <td>lost translation collecting coding data social...</td>\n",
              "      <td>Lost-in-translation--Collecting-and-coding-dat...</td>\n",
              "      <td>Social Networks An International Journal of St...</td>\n",
              "      <td>0.733038</td>\n",
              "    </tr>\n",
              "    <tr>\n",
              "      <th>7</th>\n",
              "      <td>extending persian sentiment lexicon idiomatic ...</td>\n",
              "      <td>Extending persian sentiment lexicon with idiom...</td>\n",
              "      <td>Social Network Analysis and Mining</td>\n",
              "      <td>0.713497</td>\n",
              "    </tr>\n",
              "    <tr>\n",
              "      <th>8</th>\n",
              "      <td>individualism collectivism relate bullying vic...</td>\n",
              "      <td>How Does Individualism-Collectivism Relate to ...</td>\n",
              "      <td>International Journal of Bullying Prevention</td>\n",
              "      <td>0.692995</td>\n",
              "    </tr>\n",
              "    <tr>\n",
              "      <th>9</th>\n",
              "      <td>improving attention model based cognition grou...</td>\n",
              "      <td>Improving_Attention_Model_Based_on_Cognition_G...</td>\n",
              "      <td>IEEE Transactions on Affective Computing</td>\n",
              "      <td>0.682397</td>\n",
              "    </tr>\n",
              "    <tr>\n",
              "      <th>10</th>\n",
              "      <td>empowering peer group prevent school bullying ...</td>\n",
              "      <td>Empowering the Peer Group to Prevent School Bu...</td>\n",
              "      <td>International Journal of Bullying Prevention</td>\n",
              "      <td>0.673965</td>\n",
              "    </tr>\n",
              "    <tr>\n",
              "      <th>11</th>\n",
              "      <td>capturing emotion distribution multimedia emot...</td>\n",
              "      <td>Capturing_Emotion_Distribution_for_Multimedia_...</td>\n",
              "      <td>IEEE Transactions on Affective Computing</td>\n",
              "      <td>0.670652</td>\n",
              "    </tr>\n",
              "    <tr>\n",
              "      <th>12</th>\n",
              "      <td>affective atmosphere sexualized hate among you...</td>\n",
              "      <td>Affective Atmospheres of Sexualized Hate Among...</td>\n",
              "      <td>International Journal of Bullying Prevention</td>\n",
              "      <td>0.641275</td>\n",
              "    </tr>\n",
              "    <tr>\n",
              "      <th>13</th>\n",
              "      <td>systematic application network diagnostics mon...</td>\n",
              "      <td>The Systematic Application of Network Diagnost...</td>\n",
              "      <td>International Journal of Bullying Prevention</td>\n",
              "      <td>0.620818</td>\n",
              "    </tr>\n",
              "    <tr>\n",
              "      <th>14</th>\n",
              "      <td>effect computerized emotional training child h...</td>\n",
              "      <td>Effects_of_Computerized_Emotional_Training_on_...</td>\n",
              "      <td>IEEE Transactions on Affective Computing</td>\n",
              "      <td>0.613418</td>\n",
              "    </tr>\n",
              "    <tr>\n",
              "      <th>15</th>\n",
              "      <td>actor issue climate change policy maturation p...</td>\n",
              "      <td>Actors and issues in climate change policy: Th...</td>\n",
              "      <td>Social Networks An International Journal of St...</td>\n",
              "      <td>0.602059</td>\n",
              "    </tr>\n",
              "    <tr>\n",
              "      <th>16</th>\n",
              "      <td>jointly aligning predicting continuous emotion...</td>\n",
              "      <td>Jointly_Aligning_and_Predicting_Continuous_Emo...</td>\n",
              "      <td>IEEE Transactions on Affective Computing</td>\n",
              "      <td>0.597129</td>\n",
              "    </tr>\n",
              "    <tr>\n",
              "      <th>17</th>\n",
              "      <td>right based approach youth sexting challenging...</td>\n",
              "      <td>A Rights-Based Approach to Youth Sexting: Chal...</td>\n",
              "      <td>International Journal of Bullying Prevention</td>\n",
              "      <td>0.551960</td>\n",
              "    </tr>\n",
              "    <tr>\n",
              "      <th>18</th>\n",
              "      <td>reconstruction arab woman role medium critical...</td>\n",
              "      <td>The reconstruction of Arab women role in media...</td>\n",
              "      <td>Social Network Analysis and Mining</td>\n",
              "      <td>0.528307</td>\n",
              "    </tr>\n",
              "  </tbody>\n",
              "</table>\n",
              "</div>"
            ],
            "text/plain": [
              "                                                 text  ... cosine_score\n",
              "0   impact survey design estimation exponential fa...  ...     0.819653\n",
              "1   artificial neural network applied predicting e...  ...     0.806017\n",
              "2   influence social status network structure cons...  ...     0.780898\n",
              "3   rumour prevention social network layer blockch...  ...     0.778530\n",
              "4   structural equivalence coresidents measurement...  ...     0.775032\n",
              "5   feature extraction selection emotion recogniti...  ...     0.765179\n",
              "6   lost translation collecting coding data social...  ...     0.733038\n",
              "7   extending persian sentiment lexicon idiomatic ...  ...     0.713497\n",
              "8   individualism collectivism relate bullying vic...  ...     0.692995\n",
              "9   improving attention model based cognition grou...  ...     0.682397\n",
              "10  empowering peer group prevent school bullying ...  ...     0.673965\n",
              "11  capturing emotion distribution multimedia emot...  ...     0.670652\n",
              "12  affective atmosphere sexualized hate among you...  ...     0.641275\n",
              "13  systematic application network diagnostics mon...  ...     0.620818\n",
              "14  effect computerized emotional training child h...  ...     0.613418\n",
              "15  actor issue climate change policy maturation p...  ...     0.602059\n",
              "16  jointly aligning predicting continuous emotion...  ...     0.597129\n",
              "17  right based approach youth sexting challenging...  ...     0.551960\n",
              "18  reconstruction arab woman role medium critical...  ...     0.528307\n",
              "\n",
              "[19 rows x 4 columns]"
            ]
          },
          "metadata": {},
          "execution_count": 25
        }
      ]
    },
    {
      "cell_type": "code",
      "metadata": {
        "id": "iijOyiHfW2Kz"
      },
      "source": [
        "y = list(df_bert['Journal'])\n",
        "y.append('Kundu_proposed_paper')"
      ],
      "execution_count": null,
      "outputs": []
    },
    {
      "cell_type": "code",
      "metadata": {
        "colab": {
          "base_uri": "https://localhost:8080/",
          "height": 498
        },
        "id": "KsySBeXcqxfL",
        "outputId": "64c122b5-c815-4adf-9c11-50e030044ba9"
      },
      "source": [
        "sent_vector = pd.DataFrame(glove_model_saved.sentence_embeddings)\n",
        "sent_vector.loc[19] = glove_model_saved.query_vector\n",
        "\n",
        "pca_breast = PCA(n_components=2)\n",
        "PCA_journal = pca_breast.fit_transform(sent_vector)\n",
        "\n",
        "plt.figure(figsize=(10,6))\n",
        "sns.scatterplot(\n",
        "    PCA_journal[:,0], PCA_journal[:,1],\n",
        "    hue=y,\n",
        "    #palette=sns.color_palette(\"hls\", 10),\n",
        "    legend=\"full\", s=200,\n",
        "    alpha=1\n",
        ")\n",
        "plt.title('GloVe Embedding')\n",
        "\n",
        "plt.tight_layout()\n",
        "plt.show()"
      ],
      "execution_count": null,
      "outputs": [
        {
          "output_type": "stream",
          "name": "stderr",
          "text": [
            "/usr/local/lib/python3.7/dist-packages/seaborn/_decorators.py:43: FutureWarning: Pass the following variables as keyword args: x, y. From version 0.12, the only valid positional argument will be `data`, and passing other arguments without an explicit keyword will result in an error or misinterpretation.\n",
            "  FutureWarning\n"
          ]
        },
        {
          "output_type": "display_data",
          "data": {
            "image/png": "[encoded data removed]",
            "text/plain": [
              "<Figure size 720x432 with 1 Axes>"
            ]
          },
          "metadata": {
            "needs_background": "light"
          }
        }
      ]
    },
    {
      "cell_type": "code",
      "metadata": {
        "colab": {
          "base_uri": "https://localhost:8080/",
          "height": 498
        },
        "id": "RO5HCX8oW2K0",
        "outputId": "a9db9dab-1864-47c3-a35b-41e0eb4b5af7"
      },
      "source": [
        "#sns.scatterplot(PCA_journal[:,0], PCA_journal[:,1])\n",
        "\n",
        "sent_vector = pd.DataFrame(bert_model_saved.sentence_embeddings)\n",
        "sent_vector.loc[19] = bert_model_saved.query_vector\n",
        "\n",
        "pca_breast = PCA(n_components=2)\n",
        "PCA_journal = pca_breast.fit_transform(sent_vector)\n",
        "\n",
        "plt.figure(figsize=(10,6))\n",
        "sns.scatterplot(\n",
        "    PCA_journal[:,0], PCA_journal[:,1],\n",
        "    hue=y,\n",
        "    #palette=sns.color_palette(\"hls\", 10),\n",
        "    legend=\"full\", s=200,\n",
        "    alpha=1\n",
        ")\n",
        "plt.title('BERT Embedding')\n",
        "\n",
        "plt.tight_layout()\n",
        "plt.show()"
      ],
      "execution_count": null,
      "outputs": [
        {
          "output_type": "stream",
          "name": "stderr",
          "text": [
            "/usr/local/lib/python3.7/dist-packages/seaborn/_decorators.py:43: FutureWarning: Pass the following variables as keyword args: x, y. From version 0.12, the only valid positional argument will be `data`, and passing other arguments without an explicit keyword will result in an error or misinterpretation.\n",
            "  FutureWarning\n"
          ]
        },
        {
          "output_type": "display_data",
          "data": {
            "image/png": "[encoded data removed]",
            "text/plain": [
              "<Figure size 720x432 with 1 Axes>"
            ]
          },
          "metadata": {
            "needs_background": "light"
          }
        }
      ]
    },
    {
      "cell_type": "code",
      "metadata": {
        "id": "NbLlXC-NW2K1"
      },
      "source": [
        ""
      ],
      "execution_count": null,
      "outputs": []
    },
    {
      "cell_type": "code",
      "metadata": {
        "id": "VkUOzEprW2K2"
      },
      "source": [
        ""
      ],
      "execution_count": null,
      "outputs": []
    }
  ]
}